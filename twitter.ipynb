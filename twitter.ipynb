{
 "cells": [
  {
   "cell_type": "markdown",
   "metadata": {},
   "source": [
    "# twitter authentication"
   ]
  },
  {
   "cell_type": "code",
   "execution_count": null,
   "metadata": {},
   "outputs": [],
   "source": [
    "import tweepy\n",
    "\n",
    "#assign the values accordingly \n",
    "API_KEY = \"\"\n",
    "API_SECRET_KEY = \"\"\n",
    "ACCESS_TOKEN = \"\"\n",
    "ACCESS_TOKEN_SECRET = \"\""
   ]
  },
  {
   "cell_type": "code",
   "execution_count": null,
   "metadata": {},
   "outputs": [],
   "source": [
    "\n",
    "# authorization of consumer key and consumer secret\n",
    "auth = tweepy.OAuthHandler(API_KEY, API_SECRET_KEY)\n",
    "\n",
    "# set access to user's access key and access secret  \n",
    "auth.set_access_token(ACCESS_TOKEN, ACCESS_TOKEN_SECRET)\n",
    "\n",
    "# calling the api\n",
    "api = tweepy.API(auth)"
   ]
  },
  {
   "cell_type": "markdown",
   "metadata": {},
   "source": [
    "# Read isarcasm_train.csv file and write tweets"
   ]
  },
  {
   "cell_type": "code",
   "execution_count": null,
   "metadata": {
    "tags": [
     "outputPrepend"
    ]
   },
   "outputs": [],
   "source": [
    "import csv\n",
    "\n",
    "# Reading IDs from CSV file\n",
    "with open('dataset\\isarcasm_train.csv', 'r') as tweets_id_train:\n",
    "    tweets = csv.DictReader(tweets_id_train)\n",
    "\n",
    "\n",
    "    # preparing writing results on a CSV file\n",
    "    with open('results\\Tweets_message_train.csv', 'w', newline='') as savefile:\n",
    "        writer = csv.writer(savefile)\n",
    "        writer.writerow([\"Tweet_message\"])\n",
    "\n",
    "        count = 0\n",
    "        i = 0\n",
    "        tweets_id_list = []\n",
    "        tweets_message_list = []\n",
    "        \n",
    "        # looping each tweet id\n",
    "        for tweet in tweets:\n",
    "            count = count + 1\n",
    "            # convert string id to int\n",
    "            tweets_id_list.append(int(tweet['tweet_id']))\n",
    "\n",
    "            # grouping 100 ids each time\n",
    "            if count == 100:\n",
    "                # calling twitter for getting results for 100 given ids\n",
    "                twt = api.statuses_lookup(tweets_id_list)\n",
    "                tweets_message_list.insert(i, twt)\n",
    "                count = 0\n",
    "                tweets_id_list.clear()\n",
    "                i = i + 1\n",
    "                print(i)\n",
    "\n",
    "        # looping result list by response objectes\n",
    "        for ii in range(i):\n",
    "            for j in range(len(tweets_message_list[ii])):\n",
    "                # checking if index existe\n",
    "                if tweets_message_list[ii][j]:\n",
    "                    print((tweets_message_list[ii][j].text).encode(\"utf-8\"))\n",
    "                    # getting text of tweets from each object and write on the CSV file\n",
    "                    writer.writerow([str(tweets_message_list[ii][j].text).encode(\"utf-8\")])\n",
    "\n"
   ]
  },
  {
   "cell_type": "markdown",
   "metadata": {},
   "source": [
    "# Read isarcasm_test.csv file and write tweets"
   ]
  },
  {
   "cell_type": "code",
   "execution_count": null,
   "metadata": {
    "tags": [
     "outputPrepend"
    ]
   },
   "outputs": [],
   "source": [
    "\n",
    "# Reading IDs from CSV file\n",
    "with open('dataset\\isarcasm_test.csv', 'r') as tweets_id_test:\n",
    "    tweets = csv.DictReader(tweets_id_test)\n",
    "\n",
    "\n",
    "    # preparing writing results on a CSV file\n",
    "    with open('results\\Tweets_message_test.csv', 'w', newline='') as savefile:\n",
    "        writer = csv.writer(savefile)\n",
    "        writer.writerow([\"Tweet_message\"])\n",
    "\n",
    "        count = 0\n",
    "        i = 0\n",
    "        tweets_id_list = []\n",
    "        tweets_message_list = []\n",
    "        \n",
    "\n",
    "        # looping each tweet id\n",
    "        for tweet in tweets:\n",
    "            count = count + 1\n",
    "            # convert string id to int\n",
    "            tweets_id_list.append(int(tweet['tweet_id']))\n",
    "\n",
    "            # grouping 100 ids each time\n",
    "            if count == 100:\n",
    "                # calling twitter for getting results for 100 given ids\n",
    "                twt = api.statuses_lookup(tweets_id_list)\n",
    "                tweets_message_list.insert(i, twt)\n",
    "                count = 0\n",
    "                tweets_id_list.clear()\n",
    "                i = i + 1\n",
    "                print(i)\n",
    "\n",
    "        # looping result list by response objectes\n",
    "        for ii in range(i):\n",
    "            for j in range(len(tweets_message_list[ii])):\n",
    "                # checking if index existe\n",
    "                if tweets_message_list[ii][j]:\n",
    "                    print((tweets_message_list[ii][j].text).encode(\"utf-8\"))\n",
    "                    # getting text of tweets from each object and write on the CSV file\n",
    "                    writer.writerow([str(tweets_message_list[ii][j].text).encode(\"utf-8\")])\n",
    "\n"
   ]
  },
  {
   "cell_type": "code",
   "execution_count": null,
   "metadata": {},
   "outputs": [],
   "source": []
  }
 ],
 "metadata": {
  "kernelspec": {
   "display_name": "Python 3",
   "language": "python",
   "name": "python3"
  },
  "language_info": {
   "codemirror_mode": {
    "name": "ipython",
    "version": 3
   },
   "file_extension": ".py",
   "mimetype": "text/x-python",
   "name": "python",
   "nbconvert_exporter": "python",
   "pygments_lexer": "ipython3",
   "version": "3.7.6-final"
  }
 },
 "nbformat": 4,
 "nbformat_minor": 4
}
